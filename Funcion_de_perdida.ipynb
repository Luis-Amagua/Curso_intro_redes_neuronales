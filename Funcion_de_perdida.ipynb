{
  "nbformat": 4,
  "nbformat_minor": 0,
  "metadata": {
    "colab": {
      "provenance": [],
      "authorship_tag": "ABX9TyOM1V3fD2bWvfU9uZmKHiO2",
      "include_colab_link": true
    },
    "kernelspec": {
      "name": "python3",
      "display_name": "Python 3"
    },
    "language_info": {
      "name": "python"
    }
  },
  "cells": [
    {
      "cell_type": "markdown",
      "metadata": {
        "id": "view-in-github",
        "colab_type": "text"
      },
      "source": [
        "<a href=\"https://colab.research.google.com/github/Luis-Amagua/Curso_intro_redes_neuronales/blob/main/Funcion_de_perdida.ipynb\" target=\"_parent\"><img src=\"https://colab.research.google.com/assets/colab-badge.svg\" alt=\"Open In Colab\"/></a>"
      ]
    },
    {
      "cell_type": "markdown",
      "source": [
        "# Funcion de pérdida\n",
        "\n",
        "La red neuronal está encarga de hacer una predicción ya sea de una regresión y una clasificación.\n",
        "\n",
        "La función de pérdida me indica que tan buena son mis predicciones.\n",
        "\n",
        "### __MSE - mean squared error__\n",
        "Es una fución de perdida para regresiones\n",
        "\n",
        "$MSE=\\frac{1}{n}\\sum (y-\\hat{y})^2$\n",
        "\n",
        "### __Cross entropy__ \n",
        "Funciona para valores categóricos o predicciones de clasificación\n",
        "\n",
        "$- \\sum_{x} p(x) log q(x)$\n",
        "\n"
      ],
      "metadata": {
        "id": "s8u2IOmV8r4q"
      }
    },
    {
      "cell_type": "code",
      "source": [
        "import numpy as np\n",
        "\n",
        "def mse(y,y_hat,derivate=False):\n",
        "  if derivate:\n",
        "    return (y_hat-y)\n",
        "  else:\n",
        "    return np.mean((y_hat-y)**2)"
      ],
      "metadata": {
        "id": "z7GKYZva-abT"
      },
      "execution_count": null,
      "outputs": []
    },
    {
      "cell_type": "code",
      "source": [
        "real= np.array([0,0,1,1])\n",
        "prediccion=np.array([0.9,0.5,0.2,0.0])"
      ],
      "metadata": {
        "id": "IcvyQnzh-lx1"
      },
      "execution_count": null,
      "outputs": []
    },
    {
      "cell_type": "code",
      "source": [
        "mse(real,prediccion)"
      ],
      "metadata": {
        "colab": {
          "base_uri": "https://localhost:8080/"
        },
        "id": "I0Nbj4KU-2Ct",
        "outputId": "b8518c42-0add-4b5d-cfe7-3cd973e39574"
      },
      "execution_count": null,
      "outputs": [
        {
          "output_type": "execute_result",
          "data": {
            "text/plain": [
              "0.675"
            ]
          },
          "metadata": {},
          "execution_count": 9
        }
      ]
    },
    {
      "cell_type": "markdown",
      "source": [
        "# Decenso del gradiente\n",
        "\n",
        "_Learning rate(LR)_ son los pasos que da la funcion en el decenso del gradiente. LR muy grandes puede no convergenr a un minimo local, mientras que un LR muy pequeño puede tardar en converger.\n",
        "\n",
        "# Backpropagation\n",
        "\n",
        "Distribuye el error de pérdida"
      ],
      "metadata": {
        "id": "c-H1VHBpAfCH"
      }
    },
    {
      "cell_type": "markdown",
      "source": [],
      "metadata": {
        "id": "mYosMWuVuOSx"
      }
    }
  ]
}