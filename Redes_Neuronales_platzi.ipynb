{
  "nbformat": 4,
  "nbformat_minor": 0,
  "metadata": {
    "colab": {
      "provenance": [],
      "authorship_tag": "ABX9TyMM8YHJcCVisYN+zgb31KHH",
      "include_colab_link": true
    },
    "kernelspec": {
      "name": "python3",
      "display_name": "Python 3"
    },
    "language_info": {
      "name": "python"
    }
  },
  "cells": [
    {
      "cell_type": "markdown",
      "metadata": {
        "id": "view-in-github",
        "colab_type": "text"
      },
      "source": [
        "<a href=\"https://colab.research.google.com/github/Luis-Amagua/Curso_intro_redes_neuronales/blob/main/Redes_Neuronales_platzi.ipynb\" target=\"_parent\"><img src=\"https://colab.research.google.com/assets/colab-badge.svg\" alt=\"Open In Colab\"/></a>"
      ]
    },
    {
      "cell_type": "markdown",
      "source": [
        "# **Curso de Fundamentos de Redes Neuronales con Python y Keras**\n",
        "Profesor Carlos Alarcón - Platzi"
      ],
      "metadata": {
        "id": "iAQT-ugEuqkF"
      }
    },
    {
      "cell_type": "markdown",
      "source": [
        "Prfesor Carlos"
      ],
      "metadata": {
        "id": "1r8Q-nYFupmi"
      }
    }
  ]
}